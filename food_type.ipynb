{
 "cells": [
  {
   "attachments": {},
   "cell_type": "markdown",
   "metadata": {},
   "source": [
    "# PROJECT IDEA\n",
    "\n",
    "This project aims to use AI to identify different food types.\n",
    "It is based on a Kaggle dataset (https://www.kaggle.com/datasets/kmader/food41).\n",
    "In the Kaggle's project, the goal is to classify in several categories, but here I aim to narrow it down to only four\n",
    "1. Soup\n",
    "2. Salad\n",
    "3. Pasta\n",
    "4. Sandwich\n",
    "\n",
    "The classification of the foods is based on the experience about it and in my discussion with friends. During several meetings we classified some of these foods in these 4 types."
   ]
  },
  {
   "cell_type": "code",
   "execution_count": null,
   "metadata": {},
   "outputs": [],
   "source": [
    "import numpy"
   ]
  }
 ],
 "metadata": {
  "kernelspec": {
   "display_name": "food_env",
   "language": "python",
   "name": "python3"
  },
  "language_info": {
   "name": "python",
   "version": "3.10.6"
  },
  "orig_nbformat": 4
 },
 "nbformat": 4,
 "nbformat_minor": 2
}
